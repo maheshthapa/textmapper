{
 "cells": [
  {
   "cell_type": "code",
   "execution_count": 4,
   "metadata": {},
   "outputs": [],
   "source": [
    "# -*- coding: utf-8 -*-\n",
    "\"\"\"\n",
    "Created on Fri Jan 19 14:23:28 2018\n",
    "\n",
    "@author: mahesh\n",
    "\"\"\"\n",
    "import pyLDAvis.gensim\n",
    "from gensim import corpora, models, similarities\n",
    "import os\n",
    "\n",
    "pyLDAvis.enable_notebook()\n",
    "\n",
    "def gensim_output(modelfile, corpusfile, dictionaryfile): \n",
    "    dir_path = r'D:\\giant\\computer\\thesis\\textmapper\\sample\\earthquake_nepal'\n",
    "    \"\"\"Displaying gensim topic models\"\"\"\n",
    "    ## Load files from \"gensim_modeling\"\n",
    "    corpus = corpora.MmCorpus(corpusfile)\n",
    "    dictionary = corpora.Dictionary.load(dictionaryfile) # for pyLDAvis\n",
    "    myldamodel = models.ldamodel.LdaModel.load(modelfile)    \n",
    "\n",
    "    ## Interactive visualisation\n",
    "    \n",
    "    vis = pyLDAvis.gensim.prepare(myldamodel, corpus, dictionary)\n",
    "    pyLDAvis.save_html(vis, os.path.join(dir_path,'lda.html'))\n",
    "    pyLDAvis.display(vis)\n",
    "    \n",
    "modelfile =  r'D:\\giant\\computer\\thesis\\textmapper\\sample\\earthquake_nepal\\corpus_dir\\topic_model.model'\n",
    "corpusfile  = r'D:\\giant\\computer\\thesis\\textmapper\\sample\\earthquake_nepal\\corpus_dir\\corpus.mm'  \n",
    "dictionaryfile = r'D:\\giant\\computer\\thesis\\textmapper\\sample\\earthquake_nepal\\corpus_dir\\corpus.dict' \n",
    "gensim_output(modelfile, corpusfile, dictionaryfile)"
   ]
  }
 ],
 "metadata": {
  "kernelspec": {
   "display_name": "Python 3",
   "language": "python",
   "name": "python3"
  },
  "language_info": {
   "codemirror_mode": {
    "name": "ipython",
    "version": 3
   },
   "file_extension": ".py",
   "mimetype": "text/x-python",
   "name": "python",
   "nbconvert_exporter": "python",
   "pygments_lexer": "ipython3",
   "version": "3.6.3"
  }
 },
 "nbformat": 4,
 "nbformat_minor": 2
}
